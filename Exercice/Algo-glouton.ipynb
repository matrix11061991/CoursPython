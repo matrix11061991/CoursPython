{
 "cells": [
  {
   "cell_type": "markdown",
   "id": "5f28d756-8fa1-4d7f-857b-9a7379d87cbb",
   "metadata": {},
   "source": [
    "## Exercice 1 : Sélection d'activités\n",
    "\n",
    "L'algorithme glouton peut être utilisé pour résoudre le problème de sélection d'activités. Écrivez une fonction Python qui prend en entrée une liste d'activités avec leur heure de début et de fin, et renvoie la liste des activités compatibles de manière à maximiser le nombre d'activités sélectionnées. Les activités ne se chevauchent pas.\n",
    "\n",
    "Exemple d'entrée :\n",
    "```python\n",
    "activites = [(1, 3), (2, 4), (3, 6), (5, 7), (8, 9)]\n",
    "```\n",
    "Sortie attendue :\n",
    "```python\n",
    "[0, 2, 3, 4]\n",
    "```\n"
   ]
  },
  {
   "cell_type": "code",
   "execution_count": null,
   "id": "307b3eb9-524c-467e-a39a-542bb59353de",
   "metadata": {},
   "outputs": [],
   "source": [
    "def selection_activites(activites):\n",
    "    # Triez les activités en fonction de leur heure de fin croissante\n",
    "    activites_triees = sorted(activites, key=lambda x: x[1])\n",
    "    \n",
    "    activites_selectionnees = []\n",
    "    activite_precedente = None\n",
    "    \n",
    "    for activite in activites_triees:\n",
    "        # Si la liste des activités sélectionnées est vide ou si l'activité actuelle ne se chevauche pas avec la précédente\n",
    "        if not activite_precedente or activite[0] >= activite_precedente[1]:\n",
    "            activites_selectionnees.append(activites.index(activite))\n",
    "            activite_precedente = activite\n",
    "    \n",
    "    return activites_selectionnees\n",
    "\n",
    "# Exemple d'utilisation de la fonction\n",
    "activites = [(1, 3), (2, 4), (3, 6), (5, 7), (8, 9)]\n",
    "resultat = selection_activites(activites)\n",
    "print(resultat)"
   ]
  },
  {
   "cell_type": "markdown",
   "id": "700b2b91-1a11-41a8-aa8f-541b55f6006b",
   "metadata": {},
   "source": [
    "## Exercice 2 : Rendu de monnaie\n",
    "\n",
    "L'algorithme glouton peut également être utilisé pour résoudre le problème du rendu de monnaie. Écrivez une fonction Python qui prend en entrée un montant et une liste de valeurs de pièces disponibles, et renvoie la liste des pièces à rendre pour minimiser le nombre total de pièces.\n",
    "\n",
    "Exemple d'entrée :\n",
    "```python\n",
    "montant = 63\n",
    "pieces = [1, 5, 10, 25]\n",
    "```\n",
    "Sortie attendue :\n",
    "```python\n",
    "montant = 63\n",
    "[25, 25, 10, 1, 1, 1]\n",
    "```"
   ]
  },
  {
   "cell_type": "code",
   "execution_count": null,
   "id": "6de0f465-0cdf-4eca-8fce-8e93de8f06f3",
   "metadata": {},
   "outputs": [],
   "source": [
    "def rendu_monnaie(montant, pieces):\n",
    "    pieces = sorted(pieces, reverse=True)  # Triez les pièces par ordre décroissant\n",
    "\n",
    "    rendu = []\n",
    "    for piece in pieces:\n",
    "        while montant >= piece:\n",
    "            rendu.append(piece)\n",
    "            montant -= piece\n",
    "\n",
    "    return rendu\n",
    "\n",
    "# Exemple d'utilisation de la fonction\n",
    "montant = 63\n",
    "pieces = [1, 5, 10, 25]\n",
    "resultat = rendu_monnaie(montant, pieces)\n",
    "print(resultat)"
   ]
  },
  {
   "cell_type": "markdown",
   "id": "a585ed1d-37a2-4711-90db-581f31eb250c",
   "metadata": {},
   "source": [
    "## Exercice 3 : Sac à dos fractionnaire\n",
    "\n",
    "L'algorithme glouton peut également être utilisé pour résoudre le problème du sac à dos fractionnaire. Écrivez une fonction Python qui prend en entrée une liste d'objets avec leur poids et leur valeur, ainsi qu'une capacité maximale de sac à dos, et renvoie la valeur maximale que l'on peut obtenir en remplissant le sac de manière optimale.\n",
    "\n",
    "Exemple d'entrée :\n",
    "```python\n",
    "objets = [(2, 10), (3, 5), (5, 15), (7, 7), (1, 6)]\n",
    "capacite_sac = 10\n",
    "```\n",
    "Sortie attendue :\n",
    "```python\n",
    "15.0\n",
    "```\n"
   ]
  },
  {
   "cell_type": "code",
   "execution_count": 1,
   "id": "c154e5f1-a921-4601-98ce-82472c1f3d49",
   "metadata": {},
   "outputs": [
    {
     "name": "stdout",
     "output_type": "stream",
     "text": [
      "Contenu du sac: [(1, 1.0), (2, 1.0), (5, 1.0), (3, 0.6666666666666666)]\n",
      "Valeur totale du sac: 34.333333333333336\n"
     ]
    }
   ],
   "source": [
    "def sac_a_dos_fractionnaire(objets, capacite_sac):\n",
    "    # Triez les objets par rapport à leur rapport valeur/poids décroissant\n",
    "    objets_tries = sorted(objets, key=lambda x: x[1] / x[0], reverse=True)\n",
    "    \n",
    "    valeur_totale = 0.0\n",
    "    capacite_restante = capacite_sac\n",
    "    sac = []\n",
    "\n",
    "    for objet in objets_tries:\n",
    "        poids, valeur = objet\n",
    "        if capacite_restante >= poids:\n",
    "            sac.append((poids, 1.0))\n",
    "            capacite_restante -= poids\n",
    "            valeur_totale += valeur\n",
    "        else:\n",
    "            fraction = capacite_restante / poids\n",
    "            sac.append((poids, fraction))\n",
    "            valeur_totale += fraction * valeur\n",
    "            break\n",
    "\n",
    "    return sac, valeur_totale\n",
    "\n",
    "# Exemple d'utilisation de la fonction\n",
    "objets = [(2, 10), (3, 5), (5, 15), (7, 7), (1, 6)]\n",
    "capacite_sac = 10\n",
    "resultat_sac, resultat_valeur = sac_a_dos_fractionnaire(objets, capacite_sac)\n",
    "print(\"Contenu du sac:\", resultat_sac)\n",
    "print(\"Valeur totale du sac:\", resultat_valeur)\n"
   ]
  },
  {
   "cell_type": "markdown",
   "id": "c2525f6a-003e-4820-9bd6-42bc31918f54",
   "metadata": {},
   "source": [
    "## Exercice 4 : Sélection de cours\n",
    "\n",
    "Écrivez une fonction Python qui prend en entrée une liste de cours avec leur heure de début et de fin, et renvoie la liste des cours compatibles de manière à maximiser le nombre de cours que vous pouvez suivre sans qu'ils se chevauchent.\n",
    "\n",
    "Exemple d'entrée :\n",
    "```python\n",
    "cours = [(1, 3), (2, 4), (3, 6), (5, 7), (8, 9)]\n",
    "```\n",
    "Sortie attendue :\n",
    "```python\n",
    "[0, 1, 3, 4]\n",
    "```"
   ]
  },
  {
   "cell_type": "code",
   "execution_count": 2,
   "id": "c19e831f-f626-4d19-93c5-bc527cea7206",
   "metadata": {},
   "outputs": [
    {
     "name": "stdout",
     "output_type": "stream",
     "text": [
      "[0, 2, 4]\n"
     ]
    }
   ],
   "source": [
    "def selection_cours(cours):\n",
    "    cours_tries = sorted(cours, key=lambda x: x[1])  # Triez les cours par heure de fin croissante\n",
    "    \n",
    "    cours_selectionnes = []\n",
    "    cours_precedent = None\n",
    "    \n",
    "    for cours_actuel in cours_tries:\n",
    "        # Si la liste des cours sélectionnés est vide ou si le cours actuel ne se chevauche pas avec le précédent\n",
    "        if not cours_precedent or cours_actuel[0] >= cours_precedent[1]:\n",
    "            cours_selectionnes.append(cours.index(cours_actuel))\n",
    "            cours_precedent = cours_actuel\n",
    "    \n",
    "    return cours_selectionnes\n",
    "\n",
    "# Exemple d'utilisation de la fonction\n",
    "cours = [(1, 3), (2, 4), (3, 6), (5, 7), (8, 9)]\n",
    "resultat = selection_cours(cours)\n",
    "print(resultat)"
   ]
  },
  {
   "cell_type": "markdown",
   "id": "e456f4b1-f0f6-44fa-b98a-01c307e07782",
   "metadata": {},
   "source": [
    "## Exercice 5 : Planification de tâches\n",
    "\n",
    "Écrivez une fonction Python qui prend en entrée une liste de tâches avec leur temps d'exécution et leur date limite, et renvoie la liste des tâches à exécuter de manière à maximiser le nombre de tâches accomplies avant leur date limite.\n",
    "Exemple d'entrée :\n",
    "```python\n",
    "taches = [(2, 5), (1, 3), (3, 7), (4, 6)]\n",
    "```\n",
    "Sortie attendue :\n",
    "```python\n",
    "[1, 0, 3]\n",
    "```"
   ]
  },
  {
   "cell_type": "code",
   "execution_count": 3,
   "id": "e0acf41b-10a4-4947-88bf-8736a0d6e365",
   "metadata": {},
   "outputs": [
    {
     "name": "stdout",
     "output_type": "stream",
     "text": [
      "[1, 0, 2]\n"
     ]
    }
   ],
   "source": [
    "def planification_taches(taches):\n",
    "    taches_triees = sorted(taches, key=lambda x: x[1])  # Triez les tâches par date limite croissante\n",
    "    \n",
    "    taches_planifiees = []\n",
    "    temps_total = 0\n",
    "    \n",
    "    for tache in taches_triees:\n",
    "        duree, date_limite = tache\n",
    "        temps_total += duree\n",
    "        taches_planifiees.append(taches.index(tache))\n",
    "        \n",
    "        # Vérifiez si le temps total dépasse la date limite de la tâche actuelle\n",
    "        if temps_total > date_limite:\n",
    "            # Si oui, retirez la dernière tâche planifiée pour respecter la date limite\n",
    "            tache_retiree = taches_planifiees.pop()\n",
    "            temps_total -= taches[tache_retiree][0]\n",
    "    \n",
    "    return taches_planifiees\n",
    "\n",
    "# Exemple d'utilisation de la fonction\n",
    "taches = [(2, 5), (1, 3), (3, 7), (4, 6)]\n",
    "resultat = planification_taches(taches)\n",
    "print(resultat)"
   ]
  },
  {
   "cell_type": "markdown",
   "id": "86025347-256a-46aa-bf42-96ad5007f473",
   "metadata": {},
   "source": [
    "## Exercice 6 : Rendu de monnaie avec moins de pièces\n",
    "\n",
    "Modifiez l'exercice 2 pour renvoyer le rendu de monnaie en utilisant le moins de pièces possible, plutôt que le plus grand nombre de pièces. Vous devrez ajuster l'algorithme glouton en conséquence."
   ]
  },
  {
   "cell_type": "code",
   "execution_count": 4,
   "id": "becced74-7ec6-4eb4-aea1-a6e63a6eb946",
   "metadata": {},
   "outputs": [
    {
     "name": "stdout",
     "output_type": "stream",
     "text": [
      "Rendu de monnaie avec le moins de pièces possible: [25, 25, 10, 1, 1, 1]\n",
      "Nombre total de pièces utilisées: 6\n"
     ]
    }
   ],
   "source": [
    "def rendu_monnaie_moins_de_pieces(montant, pieces):\n",
    "    pieces = sorted(pieces, reverse=True)  # Triez les pièces par ordre décroissant\n",
    "\n",
    "    rendu = []\n",
    "    nombre_de_pieces = 0  # Ajoutons un compteur pour suivre le nombre total de pièces\n",
    "\n",
    "    for piece in pieces:\n",
    "        while montant >= piece:\n",
    "            rendu.append(piece)\n",
    "            montant -= piece\n",
    "            nombre_de_pieces += 1  # Incrémentez le compteur\n",
    "\n",
    "    return rendu, nombre_de_pieces  # Renvoie le rendu et le nombre total de pièces\n",
    "\n",
    "# Exemple d'utilisation de la fonction\n",
    "montant = 63\n",
    "pieces = [1, 5, 10, 25]\n",
    "resultat_rendu, nombre_total_pieces = rendu_monnaie_moins_de_pieces(montant, pieces)\n",
    "print(\"Rendu de monnaie avec le moins de pièces possible:\", resultat_rendu)\n",
    "print(\"Nombre total de pièces utilisées:\", nombre_total_pieces)\n"
   ]
  },
  {
   "cell_type": "code",
   "execution_count": null,
   "id": "ddd0d7bd-40f7-4aae-9a52-5e2b40efe0fe",
   "metadata": {},
   "outputs": [],
   "source": []
  }
 ],
 "metadata": {
  "kernelspec": {
   "display_name": "Python 3 (ipykernel)",
   "language": "python",
   "name": "python3"
  },
  "language_info": {
   "codemirror_mode": {
    "name": "ipython",
    "version": 3
   },
   "file_extension": ".py",
   "mimetype": "text/x-python",
   "name": "python",
   "nbconvert_exporter": "python",
   "pygments_lexer": "ipython3",
   "version": "3.8.10"
  }
 },
 "nbformat": 4,
 "nbformat_minor": 5
}
